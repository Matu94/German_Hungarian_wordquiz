{
 "cells": [
  {
   "cell_type": "code",
   "execution_count": 1,
   "id": "b7cecaac",
   "metadata": {},
   "outputs": [],
   "source": [
    "import random"
   ]
  },
  {
   "cell_type": "code",
   "execution_count": 2,
   "id": "ac86fb68",
   "metadata": {},
   "outputs": [],
   "source": [
    "words = {\n",
    "    \"alma\": \"Apfel\",\n",
    "    \"kutya\": \"Hund\",\n",
    "    \"asztal\": \"Tisch\",\n",
    "}"
   ]
  },
  {
   "cell_type": "code",
   "execution_count": 3,
   "id": "43e1e917",
   "metadata": {},
   "outputs": [],
   "source": [
    "all_words = list(words.keys())\n",
    "random.shuffle(all_words)\n",
    "score = 0"
   ]
  },
  {
   "cell_type": "code",
   "execution_count": 4,
   "id": "7e835330",
   "metadata": {},
   "outputs": [
    {
     "data": {
      "text/plain": [
       "['alma', 'asztal', 'kutya']"
      ]
     },
     "execution_count": 4,
     "metadata": {},
     "output_type": "execute_result"
    }
   ],
   "source": [
    "all_words"
   ]
  },
  {
   "cell_type": "code",
   "execution_count": 6,
   "id": "28046c65",
   "metadata": {},
   "outputs": [
    {
     "name": "stdout",
     "output_type": "stream",
     "text": [
      "Mit jelent a(z) 'alma' németül?\n",
      "Válasz: Apfel\n",
      "Helyes válasz!\n",
      "\n",
      "Mit jelent a(z) 'asztal' németül?\n",
      "Válasz: tisch\n",
      "Helyes válasz!\n",
      "\n",
      "Mit jelent a(z) 'kutya' németül?\n",
      "Válasz: hund\n",
      "Helyes válasz!\n",
      "\n",
      "A kvíz véget ért. Pontszám: 3/3\n"
     ]
    }
   ],
   "source": [
    "    for hun in all_words:\n",
    "        print(f\"Mit jelent a(z) '{hun}' németül?\")\n",
    "        answer = input(\"Válasz: \").strip().lower()\n",
    "\n",
    "        if answer == words[hun].lower():\n",
    "            print(\"Helyes válasz!\\n\")\n",
    "            score += 1\n",
    "        else:\n",
    "            print(f\"Helytelen válasz. A helyes válasz: '{words[hun]}'\\n\")\n",
    "\n",
    "    print(f\"A kvíz véget ért. Pontszám: {score}/{len(words)}\")"
   ]
  },
  {
   "cell_type": "code",
   "execution_count": null,
   "id": "5b1b5f91",
   "metadata": {},
   "outputs": [],
   "source": []
  }
 ],
 "metadata": {
  "kernelspec": {
   "display_name": "Python 3 (ipykernel)",
   "language": "python",
   "name": "python3"
  },
  "language_info": {
   "codemirror_mode": {
    "name": "ipython",
    "version": 3
   },
   "file_extension": ".py",
   "mimetype": "text/x-python",
   "name": "python",
   "nbconvert_exporter": "python",
   "pygments_lexer": "ipython3",
   "version": "3.10.2"
  }
 },
 "nbformat": 4,
 "nbformat_minor": 5
}
